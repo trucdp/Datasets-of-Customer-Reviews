{
 "cells": [
  {
   "cell_type": "markdown",
   "metadata": {},
   "source": [
    "# Data Wrangling\n",
    "## Objectives\n",
    "\n",
    "*   Handle missing values\n",
    "*   Correct data format\n",
    "*   Standardize and normalize data\n"
   ]
  },
  {
   "cell_type": "markdown",
   "metadata": {},
   "source": [
    "<h2>What is the purpose of data wrangling?</h2>\n"
   ]
  },
  {
   "cell_type": "markdown",
   "metadata": {},
   "source": [
    "Data wrangling is the process of converting data from the initial format to a format that may be better for analysis."
   ]
  },
  {
   "cell_type": "markdown",
   "metadata": {},
   "source": [
    "<h3>Import data</h3>"
   ]
  },
  {
   "cell_type": "markdown",
   "metadata": {},
   "source": [
    "<h4>Import pandas</h4> \n"
   ]
  },
  {
   "cell_type": "code",
   "execution_count": 16,
   "metadata": {},
   "outputs": [],
   "source": [
    "import pandas as pd"
   ]
  },
  {
   "cell_type": "markdown",
   "metadata": {},
   "source": [
    "Use the Pandas method <b>read_csv()</b> to load the data from the web address. Set the parameter  \"names\" equal to the Python list \"headers\".\n"
   ]
  },
  {
   "cell_type": "code",
   "execution_count": 14,
   "metadata": {},
   "outputs": [],
   "source": [
    "df = pd.read_csv('data.csv')"
   ]
  },
  {
   "cell_type": "markdown",
   "metadata": {},
   "source": [
    "Use the method <b>head()</b> to display the first five rows of the dataframe.\n"
   ]
  },
  {
   "cell_type": "code",
   "execution_count": 13,
   "metadata": {},
   "outputs": [
    {
     "name": "stdout",
     "output_type": "stream",
     "text": [
      "              username  rating  \\\n",
      "0           3629pkcerq       5   \n",
      "1              b*****8       5   \n",
      "2              m*****2       5   \n",
      "3              n*****u       5   \n",
      "4              p*****8       5   \n",
      "5           anhthu8761       5   \n",
      "6     thuydung19129995       5   \n",
      "7           lan1291999       5   \n",
      "8  phanthitragiang2208       5   \n",
      "9              b*****6       5   \n",
      "\n",
      "                                             comment  \n",
      "0  Hình ảnh chỉ mang tc nhận xu, mn nên mua nha h...  \n",
      "1  Mua ở shop 2 lần rồi , giao đúng số lượng , ch...  \n",
      "2  Vải quần ổn. Quần như hình \\nĐóng gói sp cẩn t...  \n",
      "3  Vải k mỏng cũng k dày. Vải túi  quần k giống m...  \n",
      "4  Chất vải khá ổn, giao hàng cũng nhanh,...........  \n",
      "5  Quần xinh cực luôn ắ mn rẻ mà chất lượng giao ...  \n",
      "6  quần vải đẹp chất mịn.Đã giặt rồi mặc lên from...  \n",
      "7  Hình ảnh mang tính chất nhận xu \\nQuần đẹp lắm...  \n",
      "8  Sorry hình ảnh k liên quan. \\nMình mua đồ lần ...  \n",
      "9  Quần đẹp lắm nha mọi người ơiiii, chất vải siê...  \n"
     ]
    }
   ],
   "source": [
    "# To see what the data set looks like, we'll use the head() method.\n",
    "print(df.head(10))"
   ]
  },
  {
   "cell_type": "markdown",
   "metadata": {},
   "source": [
    "As we can see, several question marks appeared in the dataframe; those are missing values which may hinder our further analysis.\n",
    "\n",
    "<div>So, how do we identify all those missing values and deal with them?</div> \n",
    "\n",
    "<b>How to work with missing data?</b>\n",
    "\n",
    "Steps for working with missing data:\n",
    "\n",
    "<ol>\n",
    "    <li>Identify missing data</li>\n",
    "    <li>Deal with missing data</li>\n",
    "    <li>Correct data format</li>\n",
    "</ol>\n"
   ]
  },
  {
   "cell_type": "markdown",
   "metadata": {},
   "source": [
    "<h2 id=\"identify_handle_missing_values\">Identify and handle missing values</h2>\n",
    "\n",
    "<h3 id=\"identify_missing_values\">Identify missing values</h3>\n",
    "<h4>Convert \"?\" to NaN</h4>\n",
    "In the car dataset, missing data comes with the question mark \"?\".\n",
    "We replace \"?\" with NaN (Not a Number), Python's default missing value marker for reasons of computational speed and convenience. Here we use the function: \n",
    " <pre>.replace(A, B, inplace = True) </pre>\n",
    "to replace A by B.\n"
   ]
  },
  {
   "cell_type": "code",
   "execution_count": 19,
   "metadata": {},
   "outputs": [
    {
     "data": {
      "text/html": [
       "<div>\n",
       "<style scoped>\n",
       "    .dataframe tbody tr th:only-of-type {\n",
       "        vertical-align: middle;\n",
       "    }\n",
       "\n",
       "    .dataframe tbody tr th {\n",
       "        vertical-align: top;\n",
       "    }\n",
       "\n",
       "    .dataframe thead th {\n",
       "        text-align: right;\n",
       "    }\n",
       "</style>\n",
       "<table border=\"1\" class=\"dataframe\">\n",
       "  <thead>\n",
       "    <tr style=\"text-align: right;\">\n",
       "      <th></th>\n",
       "      <th>username</th>\n",
       "      <th>rating</th>\n",
       "      <th>comment</th>\n",
       "    </tr>\n",
       "  </thead>\n",
       "  <tbody>\n",
       "    <tr>\n",
       "      <th>0</th>\n",
       "      <td>3629pkcerq</td>\n",
       "      <td>5</td>\n",
       "      <td>Hình ảnh chỉ mang tc nhận xu, mn nên mua nha h...</td>\n",
       "    </tr>\n",
       "    <tr>\n",
       "      <th>1</th>\n",
       "      <td>b*****8</td>\n",
       "      <td>5</td>\n",
       "      <td>Mua ở shop 2 lần rồi , giao đúng số lượng , ch...</td>\n",
       "    </tr>\n",
       "    <tr>\n",
       "      <th>2</th>\n",
       "      <td>m*****2</td>\n",
       "      <td>5</td>\n",
       "      <td>Vải quần ổn. Quần như hình \\nĐóng gói sp cẩn t...</td>\n",
       "    </tr>\n",
       "    <tr>\n",
       "      <th>3</th>\n",
       "      <td>n*****u</td>\n",
       "      <td>5</td>\n",
       "      <td>Vải k mỏng cũng k dày. Vải túi  quần k giống m...</td>\n",
       "    </tr>\n",
       "    <tr>\n",
       "      <th>4</th>\n",
       "      <td>p*****8</td>\n",
       "      <td>5</td>\n",
       "      <td>Chất vải khá ổn, giao hàng cũng nhanh,...........</td>\n",
       "    </tr>\n",
       "    <tr>\n",
       "      <th>...</th>\n",
       "      <td>...</td>\n",
       "      <td>...</td>\n",
       "      <td>...</td>\n",
       "    </tr>\n",
       "    <tr>\n",
       "      <th>95</th>\n",
       "      <td>x.changgg</td>\n",
       "      <td>5</td>\n",
       "      <td>giao nhanh, vải ok, giá rẻ mình, rất đáng mua ...</td>\n",
       "    </tr>\n",
       "    <tr>\n",
       "      <th>96</th>\n",
       "      <td>n*****b</td>\n",
       "      <td>5</td>\n",
       "      <td>chất lượng sản phẩm tuyệt vời, vải đẹp , giao ...</td>\n",
       "    </tr>\n",
       "    <tr>\n",
       "      <th>97</th>\n",
       "      <td>hothikhanhly1501</td>\n",
       "      <td>5</td>\n",
       "      <td>Hàng giao nhanh, đẹp, giống hình,, cơ mà size ...</td>\n",
       "    </tr>\n",
       "    <tr>\n",
       "      <th>98</th>\n",
       "      <td>maihan309</td>\n",
       "      <td>5</td>\n",
       "      <td>Eo67 mac size S vẫn hoie rộng ạhhhhh🌀🌀🌀🌀💞💞💞💞💞💞...</td>\n",
       "    </tr>\n",
       "    <tr>\n",
       "      <th>99</th>\n",
       "      <td>t*****2</td>\n",
       "      <td>5</td>\n",
       "      <td>Giao hàng nhanh hơn dự kiến, đóng gói hàng kĩ....</td>\n",
       "    </tr>\n",
       "  </tbody>\n",
       "</table>\n",
       "<p>100 rows × 3 columns</p>\n",
       "</div>"
      ],
      "text/plain": [
       "            username  rating  \\\n",
       "0         3629pkcerq       5   \n",
       "1            b*****8       5   \n",
       "2            m*****2       5   \n",
       "3            n*****u       5   \n",
       "4            p*****8       5   \n",
       "..               ...     ...   \n",
       "95         x.changgg       5   \n",
       "96           n*****b       5   \n",
       "97  hothikhanhly1501       5   \n",
       "98         maihan309       5   \n",
       "99           t*****2       5   \n",
       "\n",
       "                                              comment  \n",
       "0   Hình ảnh chỉ mang tc nhận xu, mn nên mua nha h...  \n",
       "1   Mua ở shop 2 lần rồi , giao đúng số lượng , ch...  \n",
       "2   Vải quần ổn. Quần như hình \\nĐóng gói sp cẩn t...  \n",
       "3   Vải k mỏng cũng k dày. Vải túi  quần k giống m...  \n",
       "4   Chất vải khá ổn, giao hàng cũng nhanh,...........  \n",
       "..                                                ...  \n",
       "95  giao nhanh, vải ok, giá rẻ mình, rất đáng mua ...  \n",
       "96  chất lượng sản phẩm tuyệt vời, vải đẹp , giao ...  \n",
       "97  Hàng giao nhanh, đẹp, giống hình,, cơ mà size ...  \n",
       "98  Eo67 mac size S vẫn hoie rộng ạhhhhh🌀🌀🌀🌀💞💞💞💞💞💞...  \n",
       "99  Giao hàng nhanh hơn dự kiến, đóng gói hàng kĩ....  \n",
       "\n",
       "[100 rows x 3 columns]"
      ]
     },
     "execution_count": 19,
     "metadata": {},
     "output_type": "execute_result"
    }
   ],
   "source": [
    "import numpy as np\n",
    "\n",
    "# replace \"?\" to NaN\n",
    "df.replace(\" \", np.nan, inplace = True)\n",
    "df.head(5)"
   ]
  },
  {
   "cell_type": "markdown",
   "metadata": {},
   "source": [
    "<h4>Evaluating for Missing Data</h4>\n",
    "\n",
    "The missing values are converted by default. We use the following functions to identify these missing values. There are two methods to detect missing data:\n",
    "\n",
    "<ol>\n",
    "    <li><b>.isnull()</b></li>\n",
    "    <li><b>.notnull()</b></li>\n",
    "</ol>\n",
    "The output is a boolean value indicating whether the value that is passed into the argument is in fact missing data.\n"
   ]
  },
  {
   "cell_type": "code",
   "execution_count": 33,
   "metadata": {},
   "outputs": [
    {
     "data": {
      "text/html": [
       "<div>\n",
       "<style scoped>\n",
       "    .dataframe tbody tr th:only-of-type {\n",
       "        vertical-align: middle;\n",
       "    }\n",
       "\n",
       "    .dataframe tbody tr th {\n",
       "        vertical-align: top;\n",
       "    }\n",
       "\n",
       "    .dataframe thead th {\n",
       "        text-align: right;\n",
       "    }\n",
       "</style>\n",
       "<table border=\"1\" class=\"dataframe\">\n",
       "  <thead>\n",
       "    <tr style=\"text-align: right;\">\n",
       "      <th></th>\n",
       "      <th>username</th>\n",
       "      <th>rating</th>\n",
       "      <th>comment</th>\n",
       "    </tr>\n",
       "  </thead>\n",
       "  <tbody>\n",
       "    <tr>\n",
       "      <th>0</th>\n",
       "      <td>False</td>\n",
       "      <td>False</td>\n",
       "      <td>False</td>\n",
       "    </tr>\n",
       "    <tr>\n",
       "      <th>1</th>\n",
       "      <td>False</td>\n",
       "      <td>False</td>\n",
       "      <td>False</td>\n",
       "    </tr>\n",
       "    <tr>\n",
       "      <th>2</th>\n",
       "      <td>False</td>\n",
       "      <td>False</td>\n",
       "      <td>False</td>\n",
       "    </tr>\n",
       "    <tr>\n",
       "      <th>3</th>\n",
       "      <td>False</td>\n",
       "      <td>False</td>\n",
       "      <td>False</td>\n",
       "    </tr>\n",
       "    <tr>\n",
       "      <th>4</th>\n",
       "      <td>False</td>\n",
       "      <td>False</td>\n",
       "      <td>False</td>\n",
       "    </tr>\n",
       "  </tbody>\n",
       "</table>\n",
       "</div>"
      ],
      "text/plain": [
       "   username  rating  comment\n",
       "0     False   False    False\n",
       "1     False   False    False\n",
       "2     False   False    False\n",
       "3     False   False    False\n",
       "4     False   False    False"
      ]
     },
     "execution_count": 33,
     "metadata": {},
     "output_type": "execute_result"
    }
   ],
   "source": [
    "missing_data = df.isnull()\n",
    "missing_data.head(5)"
   ]
  },
  {
   "cell_type": "markdown",
   "metadata": {},
   "source": [
    "\"True\" means the value is a missing value while \"False\" means the value is not a missing value.\n"
   ]
  },
  {
   "cell_type": "markdown",
   "metadata": {},
   "source": [
    "<h4>Count missing values in each column</h4>\n",
    "<p>\n",
    "Using a for loop in Python, we can quickly figure out the number of missing values in each column. As mentioned above, \"True\" represents a missing value and \"False\" means the value is present in the dataset.  In the body of the for loop the method \".value_counts()\" counts the number of \"True\" values. \n",
    "</p>\n"
   ]
  },
  {
   "cell_type": "code",
   "execution_count": 34,
   "metadata": {},
   "outputs": [
    {
     "name": "stdout",
     "output_type": "stream",
     "text": [
      "username\n",
      "False    2559\n",
      "True        8\n",
      "Name: username, dtype: int64\n",
      "\n",
      "rating\n",
      "False    2567\n",
      "Name: rating, dtype: int64\n",
      "\n",
      "comment\n",
      "False    2567\n",
      "Name: comment, dtype: int64\n",
      "\n"
     ]
    }
   ],
   "source": [
    "for column in missing_data.columns.values.tolist():\n",
    "    print(column)\n",
    "    print (missing_data[column].value_counts())\n",
    "    print(\"\")    "
   ]
  },
  {
   "cell_type": "code",
   "execution_count": 30,
   "metadata": {},
   "outputs": [],
   "source": [
    "# simply drop whole row with NaN in \"commnet\" column\n",
    "df.dropna(subset=[\"comment\"],\n",
    "           inplace=True)\n",
    "\n",
    "# reset index, because we droped two rows"
   ]
  },
  {
   "cell_type": "code",
   "execution_count": 32,
   "metadata": {
    "scrolled": true
   },
   "outputs": [
    {
     "name": "stdout",
     "output_type": "stream",
     "text": [
      "username\n",
      "False    3011\n",
      "True        9\n",
      "Name: username, dtype: int64\n",
      "\n",
      "rating\n",
      "False    3020\n",
      "Name: rating, dtype: int64\n",
      "\n",
      "comment\n",
      "False    2567\n",
      "True      453\n",
      "Name: comment, dtype: int64\n",
      "\n"
     ]
    }
   ],
   "source": []
  },
  {
   "cell_type": "code",
   "execution_count": 35,
   "metadata": {},
   "outputs": [
    {
     "data": {
      "text/html": [
       "<div>\n",
       "<style scoped>\n",
       "    .dataframe tbody tr th:only-of-type {\n",
       "        vertical-align: middle;\n",
       "    }\n",
       "\n",
       "    .dataframe tbody tr th {\n",
       "        vertical-align: top;\n",
       "    }\n",
       "\n",
       "    .dataframe thead th {\n",
       "        text-align: right;\n",
       "    }\n",
       "</style>\n",
       "<table border=\"1\" class=\"dataframe\">\n",
       "  <thead>\n",
       "    <tr style=\"text-align: right;\">\n",
       "      <th></th>\n",
       "      <th>username</th>\n",
       "      <th>rating</th>\n",
       "      <th>comment</th>\n",
       "    </tr>\n",
       "  </thead>\n",
       "  <tbody>\n",
       "    <tr>\n",
       "      <th>0</th>\n",
       "      <td>3629pkcerq</td>\n",
       "      <td>5</td>\n",
       "      <td>Hình ảnh chỉ mang tc nhận xu, mn nên mua nha h...</td>\n",
       "    </tr>\n",
       "    <tr>\n",
       "      <th>1</th>\n",
       "      <td>b*****8</td>\n",
       "      <td>5</td>\n",
       "      <td>Mua ở shop 2 lần rồi , giao đúng số lượng , ch...</td>\n",
       "    </tr>\n",
       "    <tr>\n",
       "      <th>2</th>\n",
       "      <td>m*****2</td>\n",
       "      <td>5</td>\n",
       "      <td>Vải quần ổn. Quần như hình \\nĐóng gói sp cẩn t...</td>\n",
       "    </tr>\n",
       "    <tr>\n",
       "      <th>3</th>\n",
       "      <td>n*****u</td>\n",
       "      <td>5</td>\n",
       "      <td>Vải k mỏng cũng k dày. Vải túi  quần k giống m...</td>\n",
       "    </tr>\n",
       "    <tr>\n",
       "      <th>4</th>\n",
       "      <td>p*****8</td>\n",
       "      <td>5</td>\n",
       "      <td>Chất vải khá ổn, giao hàng cũng nhanh,...........</td>\n",
       "    </tr>\n",
       "  </tbody>\n",
       "</table>\n",
       "</div>"
      ],
      "text/plain": [
       "     username  rating                                            comment\n",
       "0  3629pkcerq       5  Hình ảnh chỉ mang tc nhận xu, mn nên mua nha h...\n",
       "1     b*****8       5  Mua ở shop 2 lần rồi , giao đúng số lượng , ch...\n",
       "2     m*****2       5  Vải quần ổn. Quần như hình \\nĐóng gói sp cẩn t...\n",
       "3     n*****u       5  Vải k mỏng cũng k dày. Vải túi  quần k giống m...\n",
       "4     p*****8       5  Chất vải khá ổn, giao hàng cũng nhanh,..........."
      ]
     },
     "execution_count": 35,
     "metadata": {},
     "output_type": "execute_result"
    }
   ],
   "source": [
    "df.head()"
   ]
  },
  {
   "cell_type": "code",
   "execution_count": null,
   "metadata": {},
   "outputs": [],
   "source": []
  }
 ],
 "metadata": {
  "kernelspec": {
   "display_name": "Python 3 (ipykernel)",
   "language": "python",
   "name": "python3"
  },
  "language_info": {
   "codemirror_mode": {
    "name": "ipython",
    "version": 3
   },
   "file_extension": ".py",
   "mimetype": "text/x-python",
   "name": "python",
   "nbconvert_exporter": "python",
   "pygments_lexer": "ipython3",
   "version": "3.10.0"
  },
  "pycharm": {
   "stem_cell": {
    "cell_type": "raw",
    "metadata": {
     "collapsed": false
    },
    "source": [
     "import pandas as pd"
    ]
   }
  }
 },
 "nbformat": 4,
 "nbformat_minor": 1
}